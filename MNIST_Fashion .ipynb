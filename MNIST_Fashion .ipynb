{
 "cells": [
  {
   "cell_type": "markdown",
   "metadata": {},
   "source": [
    "<h1><center>MNIST Fashion Poject</center></h1>"
   ]
  },
  {
   "cell_type": "markdown",
   "metadata": {},
   "source": [
    "<p><b>There have around 70,000 images data which have (24*24 pixels) and there have some code Label for our data. Now our AI can analysis and find the data if you want to know about this 70,000 Fashion data.</b></p>"
   ]
  },
  {
   "cell_type": "markdown",
   "metadata": {},
   "source": [
    "<center><img src=\"MNIST_F.png\" ><img src=\"MNIST_Lable.png\" ></center>"
   ]
  },
  {
   "cell_type": "markdown",
   "metadata": {},
   "source": [
    "# Import Library"
   ]
  },
  {
   "cell_type": "code",
   "execution_count": 2,
   "metadata": {},
   "outputs": [],
   "source": [
    "import pandas as pd\n",
    "import matplotlib\n",
    "import matplotlib.pyplot as plt\n",
    "from sklearn.datasets import fetch_openml"
   ]
  },
  {
   "cell_type": "markdown",
   "metadata": {},
   "source": [
    "# Load Data"
   ]
  },
  {
   "cell_type": "code",
   "execution_count": 3,
   "metadata": {},
   "outputs": [
    {
     "data": {
      "text/plain": [
       "dict_keys(['data', 'target', 'frame', 'feature_names', 'target_names', 'DESCR', 'details', 'categories', 'url'])"
      ]
     },
     "execution_count": 3,
     "metadata": {},
     "output_type": "execute_result"
    }
   ],
   "source": [
    "#https://www.openml.org/d/40996\n",
    "mnist = fetch_openml(\"Fashion-MNIST\")\n",
    "#If you want to learn more about the mnist dataset visit: https://www.openml.org/d/554\n",
    "#print(mnist.data[0])\n",
    "#print(mnist.data)\n",
    "mnist.keys()"
   ]
  },
  {
   "cell_type": "code",
   "execution_count": 4,
   "metadata": {},
   "outputs": [
    {
     "data": {
      "text/plain": [
       "\"**Author**: Han Xiao, Kashif Rasul, Roland Vollgraf  \\n**Source**: [Zalando Research](https://github.com/zalandoresearch/fashion-mnist)  \\n**Please cite**: Han Xiao and Kashif Rasul and Roland Vollgraf, Fashion-MNIST: a Novel Image Dataset for Benchmarking Machine Learning Algorithms, arXiv, cs.LG/1708.07747  \\n\\nFashion-MNIST is a dataset of Zalando's article images, consisting of a training set of 60,000 examples and a test set of 10,000 examples. Each example is a 28x28 grayscale image, associated with a label from 10 classes. Fashion-MNIST is intended to serve as a direct drop-in replacement for the original MNIST dataset for benchmarking machine learning algorithms. It shares the same image size and structure of training and testing splits. \\n\\nRaw data available at: https://github.com/zalandoresearch/fashion-mnist\\n\\n### Target classes\\nEach training and test example is assigned to one of the following labels:\\nLabel  Description  \\n0  T-shirt/top  \\n1  Trouser  \\n2  Pullover  \\n3  Dress  \\n4  Coat  \\n5  Sandal  \\n6  Shirt  \\n7  Sneaker  \\n8  Bag  \\n9  Ankle boot\\n\\nDownloaded from openml.org.\""
      ]
     },
     "execution_count": 4,
     "metadata": {},
     "output_type": "execute_result"
    }
   ],
   "source": [
    "mnist.data\n",
    "#mnist.target\n",
    "#mnist.feature_names\n",
    "mnist.DESCR\n",
    "#mnist.details\n",
    "#mnist.categories\n",
    "#mnist.url\n",
    "\n",
    "#type(mnist.data)"
   ]
  },
  {
   "cell_type": "code",
   "execution_count": 5,
   "metadata": {},
   "outputs": [
    {
     "data": {
      "text/plain": [
       "pandas.core.frame.DataFrame"
      ]
     },
     "execution_count": 5,
     "metadata": {},
     "output_type": "execute_result"
    }
   ],
   "source": [
    "mnist_data=pd.DataFrame(mnist.data)\n",
    "type(mnist_data)"
   ]
  },
  {
   "cell_type": "code",
   "execution_count": 6,
   "metadata": {},
   "outputs": [
    {
     "data": {
      "text/html": [
       "<div>\n",
       "<style scoped>\n",
       "    .dataframe tbody tr th:only-of-type {\n",
       "        vertical-align: middle;\n",
       "    }\n",
       "\n",
       "    .dataframe tbody tr th {\n",
       "        vertical-align: top;\n",
       "    }\n",
       "\n",
       "    .dataframe thead th {\n",
       "        text-align: right;\n",
       "    }\n",
       "</style>\n",
       "<table border=\"1\" class=\"dataframe\">\n",
       "  <thead>\n",
       "    <tr style=\"text-align: right;\">\n",
       "      <th></th>\n",
       "      <th>0</th>\n",
       "      <th>1</th>\n",
       "      <th>2</th>\n",
       "      <th>3</th>\n",
       "      <th>4</th>\n",
       "      <th>5</th>\n",
       "      <th>6</th>\n",
       "      <th>7</th>\n",
       "      <th>8</th>\n",
       "      <th>9</th>\n",
       "      <th>...</th>\n",
       "      <th>774</th>\n",
       "      <th>775</th>\n",
       "      <th>776</th>\n",
       "      <th>777</th>\n",
       "      <th>778</th>\n",
       "      <th>779</th>\n",
       "      <th>780</th>\n",
       "      <th>781</th>\n",
       "      <th>782</th>\n",
       "      <th>783</th>\n",
       "    </tr>\n",
       "  </thead>\n",
       "  <tbody>\n",
       "    <tr>\n",
       "      <th>0</th>\n",
       "      <td>0.0</td>\n",
       "      <td>0.0</td>\n",
       "      <td>0.0</td>\n",
       "      <td>0.0</td>\n",
       "      <td>0.0</td>\n",
       "      <td>0.0</td>\n",
       "      <td>0.0</td>\n",
       "      <td>0.0</td>\n",
       "      <td>0.0</td>\n",
       "      <td>0.0</td>\n",
       "      <td>...</td>\n",
       "      <td>0.0</td>\n",
       "      <td>0.0</td>\n",
       "      <td>0.0</td>\n",
       "      <td>0.0</td>\n",
       "      <td>0.0</td>\n",
       "      <td>0.0</td>\n",
       "      <td>0.0</td>\n",
       "      <td>0.0</td>\n",
       "      <td>0.0</td>\n",
       "      <td>0.0</td>\n",
       "    </tr>\n",
       "    <tr>\n",
       "      <th>1</th>\n",
       "      <td>0.0</td>\n",
       "      <td>0.0</td>\n",
       "      <td>0.0</td>\n",
       "      <td>0.0</td>\n",
       "      <td>0.0</td>\n",
       "      <td>1.0</td>\n",
       "      <td>0.0</td>\n",
       "      <td>0.0</td>\n",
       "      <td>0.0</td>\n",
       "      <td>0.0</td>\n",
       "      <td>...</td>\n",
       "      <td>119.0</td>\n",
       "      <td>114.0</td>\n",
       "      <td>130.0</td>\n",
       "      <td>76.0</td>\n",
       "      <td>0.0</td>\n",
       "      <td>0.0</td>\n",
       "      <td>0.0</td>\n",
       "      <td>0.0</td>\n",
       "      <td>0.0</td>\n",
       "      <td>0.0</td>\n",
       "    </tr>\n",
       "    <tr>\n",
       "      <th>2</th>\n",
       "      <td>0.0</td>\n",
       "      <td>0.0</td>\n",
       "      <td>0.0</td>\n",
       "      <td>0.0</td>\n",
       "      <td>0.0</td>\n",
       "      <td>0.0</td>\n",
       "      <td>0.0</td>\n",
       "      <td>0.0</td>\n",
       "      <td>0.0</td>\n",
       "      <td>22.0</td>\n",
       "      <td>...</td>\n",
       "      <td>0.0</td>\n",
       "      <td>0.0</td>\n",
       "      <td>1.0</td>\n",
       "      <td>0.0</td>\n",
       "      <td>0.0</td>\n",
       "      <td>0.0</td>\n",
       "      <td>0.0</td>\n",
       "      <td>0.0</td>\n",
       "      <td>0.0</td>\n",
       "      <td>0.0</td>\n",
       "    </tr>\n",
       "    <tr>\n",
       "      <th>3</th>\n",
       "      <td>0.0</td>\n",
       "      <td>0.0</td>\n",
       "      <td>0.0</td>\n",
       "      <td>0.0</td>\n",
       "      <td>0.0</td>\n",
       "      <td>0.0</td>\n",
       "      <td>0.0</td>\n",
       "      <td>0.0</td>\n",
       "      <td>33.0</td>\n",
       "      <td>96.0</td>\n",
       "      <td>...</td>\n",
       "      <td>0.0</td>\n",
       "      <td>0.0</td>\n",
       "      <td>0.0</td>\n",
       "      <td>0.0</td>\n",
       "      <td>0.0</td>\n",
       "      <td>0.0</td>\n",
       "      <td>0.0</td>\n",
       "      <td>0.0</td>\n",
       "      <td>0.0</td>\n",
       "      <td>0.0</td>\n",
       "    </tr>\n",
       "    <tr>\n",
       "      <th>4</th>\n",
       "      <td>0.0</td>\n",
       "      <td>0.0</td>\n",
       "      <td>0.0</td>\n",
       "      <td>0.0</td>\n",
       "      <td>0.0</td>\n",
       "      <td>0.0</td>\n",
       "      <td>0.0</td>\n",
       "      <td>0.0</td>\n",
       "      <td>0.0</td>\n",
       "      <td>0.0</td>\n",
       "      <td>...</td>\n",
       "      <td>0.0</td>\n",
       "      <td>0.0</td>\n",
       "      <td>0.0</td>\n",
       "      <td>0.0</td>\n",
       "      <td>0.0</td>\n",
       "      <td>0.0</td>\n",
       "      <td>0.0</td>\n",
       "      <td>0.0</td>\n",
       "      <td>0.0</td>\n",
       "      <td>0.0</td>\n",
       "    </tr>\n",
       "  </tbody>\n",
       "</table>\n",
       "<p>5 rows × 784 columns</p>\n",
       "</div>"
      ],
      "text/plain": [
       "   0    1    2    3    4    5    6    7     8     9    ...    774    775  \\\n",
       "0  0.0  0.0  0.0  0.0  0.0  0.0  0.0  0.0   0.0   0.0  ...    0.0    0.0   \n",
       "1  0.0  0.0  0.0  0.0  0.0  1.0  0.0  0.0   0.0   0.0  ...  119.0  114.0   \n",
       "2  0.0  0.0  0.0  0.0  0.0  0.0  0.0  0.0   0.0  22.0  ...    0.0    0.0   \n",
       "3  0.0  0.0  0.0  0.0  0.0  0.0  0.0  0.0  33.0  96.0  ...    0.0    0.0   \n",
       "4  0.0  0.0  0.0  0.0  0.0  0.0  0.0  0.0   0.0   0.0  ...    0.0    0.0   \n",
       "\n",
       "     776   777  778  779  780  781  782  783  \n",
       "0    0.0   0.0  0.0  0.0  0.0  0.0  0.0  0.0  \n",
       "1  130.0  76.0  0.0  0.0  0.0  0.0  0.0  0.0  \n",
       "2    1.0   0.0  0.0  0.0  0.0  0.0  0.0  0.0  \n",
       "3    0.0   0.0  0.0  0.0  0.0  0.0  0.0  0.0  \n",
       "4    0.0   0.0  0.0  0.0  0.0  0.0  0.0  0.0  \n",
       "\n",
       "[5 rows x 784 columns]"
      ]
     },
     "execution_count": 6,
     "metadata": {},
     "output_type": "execute_result"
    }
   ],
   "source": [
    "mnist_data.head(5)"
   ]
  },
  {
   "cell_type": "code",
   "execution_count": 7,
   "metadata": {},
   "outputs": [
    {
     "data": {
      "text/plain": [
       "(70000, 784)"
      ]
     },
     "execution_count": 7,
     "metadata": {},
     "output_type": "execute_result"
    }
   ],
   "source": [
    "X, y = mnist[\"data\"], mnist[\"target\"]\n",
    "X.shape"
   ]
  },
  {
   "cell_type": "code",
   "execution_count": 8,
   "metadata": {},
   "outputs": [
    {
     "data": {
      "text/plain": [
       "(70000,)"
      ]
     },
     "execution_count": 8,
     "metadata": {},
     "output_type": "execute_result"
    }
   ],
   "source": [
    "y.shape"
   ]
  },
  {
   "cell_type": "markdown",
   "metadata": {},
   "source": [
    "# Visualization data "
   ]
  },
  {
   "cell_type": "code",
   "execution_count": 24,
   "metadata": {},
   "outputs": [
    {
     "data": {
      "image/png": "[encoded data removed]",
      "text/plain": [
       "<Figure size 432x288 with 1 Axes>"
      ]
     },
     "metadata": {
      "needs_background": "light"
     },
     "output_type": "display_data"
    }
   ],
   "source": [
    "%matplotlib inline\n",
    "some_img = X[5]   # Selecting the n'th image.like: 5000th image, or here 0 th image\n",
    "some_image = some_img.reshape(28, 28) # Reshaping it to get the 28x28 pixels\n",
    "plt.imshow(some_image, cmap = matplotlib.cm.binary, interpolation=\"nearest\")\n",
    "#plt.axis(\"off\")\n",
    "plt.show()"
   ]
  },
  {
   "cell_type": "code",
   "execution_count": 25,
   "metadata": {},
   "outputs": [
    {
     "data": {
      "text/plain": [
       "array([[  0.,   0.,   0.,   0.,   1.,   0.,   0.,   0.,   0.,  22.,  88.,\n",
       "        188., 172., 132., 125., 141., 199., 143.,   9.,   0.,   0.,   0.,\n",
       "          1.,   0.,   0.,   0.,   0.,   0.],\n",
       "       [  0.,   0.,   0.,   1.,   0.,   0.,  20., 131., 199., 206., 196.,\n",
       "        202., 242., 255., 255., 250., 222., 197., 206., 188., 126.,  17.,\n",
       "          0.,   0.,   0.,   0.,   0.,   0.],\n",
       "       [  0.,   0.,   0.,   1.,   0.,  35., 214., 191., 183., 178., 175.,\n",
       "        168., 150., 162., 159., 152., 158., 179., 183., 189., 195., 185.,\n",
       "         82.,   0.,   0.,   0.,   0.,   0.],\n",
       "       [  0.,   0.,   0.,   0.,   0., 170., 190., 172., 177., 176., 171.,\n",
       "        169., 162., 155., 148., 154., 169., 174., 175., 175., 177., 183.,\n",
       "        188.,  12.,   0.,   0.,   0.,   0.],\n",
       "       [  0.,   0.,   0.,   0.,  25., 194., 180., 178., 174., 184., 187.,\n",
       "        189., 187., 184., 181., 189., 200., 197., 193., 190., 178., 175.,\n",
       "        194.,  90.,   0.,   0.,   0.,   0.],\n",
       "       [  0.,   0.,   0.,   0.,  42., 218., 191., 197., 208., 204., 211.,\n",
       "        209., 210., 212., 211., 214., 215., 213., 214., 211., 211., 191.,\n",
       "        200., 158.,   0.,   0.,   0.,   0.],\n",
       "       [  0.,   0.,   0.,   0.,  88., 221., 215., 217., 219., 211., 185.,\n",
       "        150., 118., 107.,  99.,  88.,  83.,  90., 135., 212., 203., 207.,\n",
       "        219., 169.,   0.,   0.,   0.,   0.],\n",
       "       [  0.,   0.,   0.,   0.,   0.,  27., 118., 162.,  40.,   0.,   0.,\n",
       "          0.,  10.,  19.,  28.,  39.,  47.,  36.,   0.,   0., 203., 230.,\n",
       "        220., 203.,   0.,   0.,   0.,   0.],\n",
       "       [  0.,   0.,   0.,   0., 138., 136.,  71.,  69.,  54., 216., 217.,\n",
       "        203., 184., 168., 163., 162., 163., 178., 221., 186.,  38.,  26.,\n",
       "          7.,   0.,   0.,   0.,   0.,   0.],\n",
       "       [  0.,   0.,   0.,   0.,  67., 134., 154., 224., 129.,  66.,  81.,\n",
       "        117., 129., 128., 132., 137., 131., 129.,  86.,  73., 157., 151.,\n",
       "        134., 216.,  18.,   0.,   0.,   0.],\n",
       "       [  0.,   0.,   0.,   0., 203., 198., 172., 183., 206., 255., 255.,\n",
       "        250., 243., 240., 239., 235., 238., 244., 255., 238., 184., 160.,\n",
       "         86.,  98.,   0.,   0.,   0.,   0.],\n",
       "       [  0.,   0.,   0.,   0., 122., 188., 224., 151., 105., 127.,  97.,\n",
       "        100., 105., 114., 117., 117., 113., 103.,  98., 111., 142., 254.,\n",
       "        191., 255.,  49.,   0.,   0.,   0.],\n",
       "       [  0.,   0.,   0.,   0., 163., 179., 200.,  95., 154., 198., 197.,\n",
       "        200., 200., 198., 197., 198., 199., 202., 200., 176.,  86., 206.,\n",
       "        157., 162.,  10.,   0.,   0.,   0.],\n",
       "       [  0.,   0.,   0.,   0., 197., 201., 229.,  71., 144., 194., 181.,\n",
       "        183., 179., 182., 180., 179., 180., 190., 185., 197.,  76., 219.,\n",
       "        185., 201.,  34.,   0.,   0.,   0.],\n",
       "       [  0.,   0.,   0.,   0., 199., 193., 226.,  58., 154., 192., 184.,\n",
       "        187., 184., 186., 184., 185., 183., 192., 191., 200.,  56., 219.,\n",
       "        203., 207.,  60.,   0.,   0.,   0.],\n",
       "       [  0.,   0.,   0.,   0., 201., 194., 224.,  41., 163., 190., 186.,\n",
       "        186., 184., 185., 183., 185., 178., 190., 194., 202.,  33., 211.,\n",
       "        200., 206.,  73.,   0.,   0.,   0.],\n",
       "       [  0.,   0.,   0.,   0., 201., 197., 222.,  17., 172., 190., 186.,\n",
       "        187., 182., 186., 185., 187., 180., 187., 193., 202.,  26., 212.,\n",
       "        202., 203.,  76.,   0.,   0.,   0.],\n",
       "       [  0.,   0.,   0.,   0., 200., 197., 223.,   0., 177., 189., 184.,\n",
       "        185., 178., 184., 183., 184., 180., 183., 189., 203.,  35., 196.,\n",
       "        203., 203.,  84.,   0.,   0.,   0.],\n",
       "       [  0.,   0.,   0.,   0., 200., 197., 223.,   0., 185., 187., 185.,\n",
       "        187., 180., 184., 182., 183., 178., 182., 183., 205.,  44., 159.,\n",
       "        207., 201.,  85.,   0.,   0.,   0.],\n",
       "       [  0.,   0.,   0.,   0., 187., 198., 225.,   0., 194., 188., 184.,\n",
       "        185., 180., 183., 183., 184., 181., 181., 177., 206.,  46., 129.,\n",
       "        211., 200.,  88.,   0.,   0.,   0.],\n",
       "       [  0.,   0.,   0.,   6., 186., 200., 211.,   0., 199., 189., 184.,\n",
       "        184., 185., 182., 183., 184., 185., 182., 175., 205.,  50.,  97.,\n",
       "        216., 197.,  93.,   0.,   0.,   0.],\n",
       "       [  0.,   0.,   0.,   5., 185., 204., 184.,   0., 202., 188., 182.,\n",
       "        182., 183., 183., 184., 182., 180., 182., 174., 202.,  63.,  59.,\n",
       "        220., 196.,  94.,   0.,   0.,   0.],\n",
       "       [  0.,   0.,   0.,   5., 184., 206., 157.,   0., 204., 187., 187.,\n",
       "        189., 192., 190., 190., 191., 190., 187., 183., 202.,  78.,  35.,\n",
       "        222., 197.,  95.,   0.,   0.,   0.],\n",
       "       [  0.,   0.,   0.,   5., 183., 208., 127.,   0., 197., 166., 153.,\n",
       "        149., 149., 146., 148., 149., 150., 151., 158., 191.,  90.,   8.,\n",
       "        223., 195.,  99.,   0.,   0.,   0.],\n",
       "       [  0.,   0.,   0.,   6., 184., 208., 114.,   0., 204., 173., 161.,\n",
       "        180., 176., 172., 173., 173., 174., 176., 162., 202., 115.,   0.,\n",
       "        229., 199., 105.,   0.,   0.,   0.],\n",
       "       [  0.,   0.,   0.,   9., 178., 204., 115.,   0., 121., 135., 114.,\n",
       "        117., 114., 114., 117., 118., 119., 117., 113., 147.,  63.,   0.,\n",
       "        225., 196., 107.,   0.,   0.,   0.],\n",
       "       [  0.,   0.,   0.,  18., 180., 206., 131.,   0.,   0.,   0.,   0.,\n",
       "          0.,   0.,   0.,   0.,   0.,   0.,   0.,   0.,   0.,   0.,   0.,\n",
       "        224., 197., 123.,   0.,   0.,   0.],\n",
       "       [  0.,   0.,   0.,   0., 141., 151.,  76.,   0.,   1.,   1.,   0.,\n",
       "          0.,   0.,   0.,   0.,   0.,   0.,   0.,   0.,   0.,   0.,   0.,\n",
       "        133., 167.,  73.,   0.,   0.,   0.]])"
      ]
     },
     "execution_count": 25,
     "metadata": {},
     "output_type": "execute_result"
    }
   ],
   "source": [
    "some_image  #greyscale RGB codes are from 0 to 255,so here values are from 0 to 255"
   ]
  },
  {
   "cell_type": "code",
   "execution_count": 11,
   "metadata": {},
   "outputs": [
    {
     "data": {
      "text/plain": [
       "(28, 28)"
      ]
     },
     "execution_count": 11,
     "metadata": {},
     "output_type": "execute_result"
    }
   ],
   "source": [
    "some_image.shape"
   ]
  },
  {
   "cell_type": "code",
   "execution_count": 26,
   "metadata": {},
   "outputs": [
    {
     "data": {
      "text/plain": [
       "'2'"
      ]
     },
     "execution_count": 26,
     "metadata": {},
     "output_type": "execute_result"
    }
   ],
   "source": [
    "y[5]"
   ]
  },
  {
   "cell_type": "markdown",
   "metadata": {},
   "source": [
    "# Split Dataset for Train and Test"
   ]
  },
  {
   "cell_type": "code",
   "execution_count": 13,
   "metadata": {},
   "outputs": [
    {
     "name": "stdout",
     "output_type": "stream",
     "text": [
      "(60000, 784)\n",
      "(60000,)\n",
      "(10000, 784)\n",
      "(10000,)\n"
     ]
    }
   ],
   "source": [
    "X_train, X_test, y_train, y_test = X[:60000], X[60000:], y[:60000], y[60000:]\n",
    "print(X_train.shape)\n",
    "print(y_train.shape)\n",
    "print(X_test.shape)\n",
    "print(y_test.shape)"
   ]
  },
  {
   "cell_type": "markdown",
   "metadata": {},
   "source": [
    "# Train dataset using model/algorithm "
   ]
  },
  {
   "cell_type": "code",
   "execution_count": 14,
   "metadata": {},
   "outputs": [
    {
     "data": {
      "text/plain": [
       "DecisionTreeClassifier(ccp_alpha=0.0, class_weight=None, criterion='gini',\n",
       "                       max_depth=None, max_features=None, max_leaf_nodes=None,\n",
       "                       min_impurity_decrease=0.0, min_impurity_split=None,\n",
       "                       min_samples_leaf=1, min_samples_split=2,\n",
       "                       min_weight_fraction_leaf=0.0, presort='deprecated',\n",
       "                       random_state=None, splitter='best')"
      ]
     },
     "execution_count": 14,
     "metadata": {},
     "output_type": "execute_result"
    }
   ],
   "source": [
    "#DecisionTreeClassifier is a class capable of performing multi-class classification on a dataset\n",
    "#To learn more go to the link: https://scikit-learn.org/stable/modules/tree.html  \n",
    "from sklearn import tree\n",
    "\n",
    "clf_dt = tree.DecisionTreeClassifier()\n",
    "clf_dt.fit(X_train, y_train)"
   ]
  },
  {
   "cell_type": "code",
   "execution_count": 29,
   "metadata": {},
   "outputs": [
    {
     "data": {
      "text/plain": [
       "array(['9'], dtype=object)"
      ]
     },
     "execution_count": 29,
     "metadata": {},
     "output_type": "execute_result"
    }
   ],
   "source": [
    "clf_dt.predict([X[7000]])"
   ]
  },
  {
   "cell_type": "code",
   "execution_count": 30,
   "metadata": {},
   "outputs": [
    {
     "data": {
      "image/png": "[encoded data removed]",
      "text/plain": [
       "<Figure size 432x288 with 1 Axes>"
      ]
     },
     "metadata": {
      "needs_background": "light"
     },
     "output_type": "display_data"
    }
   ],
   "source": [
    "%matplotlib inline\n",
    "some_img = X[7000]   # Selecting the n'th image.like: 5000th image, or here 0 th image\n",
    "some_image = some_img.reshape(28, 28) # Reshaping it to get the 28x28 pixels\n",
    "plt.imshow(some_image, cmap = matplotlib.cm.binary, interpolation=\"nearest\")\n",
    "#plt.axis(\"off\")\n",
    "plt.show()"
   ]
  },
  {
   "cell_type": "code",
   "execution_count": 31,
   "metadata": {},
   "outputs": [
    {
     "data": {
      "text/plain": [
       "'2'"
      ]
     },
     "execution_count": 31,
     "metadata": {},
     "output_type": "execute_result"
    }
   ],
   "source": [
    "y[5]"
   ]
  },
  {
   "cell_type": "markdown",
   "metadata": {},
   "source": [
    "# Evaluate"
   ]
  },
  {
   "cell_type": "code",
   "execution_count": 32,
   "metadata": {},
   "outputs": [
    {
     "data": {
      "text/plain": [
       "0.7903"
      ]
     },
     "execution_count": 32,
     "metadata": {},
     "output_type": "execute_result"
    }
   ],
   "source": [
    "#Accuracy of DecisionTreeClassifier Model\n",
    "clf_dt.score(X_test, y_test)"
   ]
  },
  {
   "cell_type": "code",
   "execution_count": null,
   "metadata": {},
   "outputs": [],
   "source": []
  }
 ],
 "metadata": {
  "kernelspec": {
   "display_name": "Python 3",
   "language": "python",
   "name": "python3"
  },
  "language_info": {
   "codemirror_mode": {
    "name": "ipython",
    "version": 3
   },
   "file_extension": ".py",
   "mimetype": "text/x-python",
   "name": "python",
   "nbconvert_exporter": "python",
   "pygments_lexer": "ipython3",
   "version": "3.7.6"
  }
 },
 "nbformat": 4,
 "nbformat_minor": 4
}
